{
  "cells": [
    {
      "cell_type": "markdown",
      "metadata": {
        "id": "view-in-github",
        "colab_type": "text"
      },
      "source": [
        "<a href=\"https://colab.research.google.com/github/snvssk/data240/blob/development/SVM.ipynb\" target=\"_parent\"><img src=\"https://colab.research.google.com/assets/colab-badge.svg\" alt=\"Open In Colab\"/></a>"
      ]
    },
    {
      "cell_type": "code",
      "execution_count": null,
      "metadata": {
        "id": "EEOBIceni2y6"
      },
      "outputs": [],
      "source": [
        "import pandas as pd\n",
        "import numpy as np\n",
        "\n",
        "import os\n",
        "\n",
        "import matplotlib.pyplot as plt\n",
        "import scikitplot as skplt\n",
        "\n",
        "from sklearn import preprocessing\n",
        "from sklearn.preprocessing import StandardScaler\n",
        "from sklearn.preprocessing import LabelEncoder\n",
        "from sklearn.preprocessing import MinMaxScaler\n",
        "\n",
        "from sklearn.model_selection import train_test_split\n",
        "from sklearn.metrics import confusion_matrix\n",
        "from sklearn.model_selection import cross_val_score\n",
        "\n",
        "from sklearn.ensemble import RandomForestClassifier\n",
        "\n",
        "from sklearn.linear_model import LogisticRegression\n",
        "from sklearn.linear_model import LogisticRegressionCV\n",
        "import statsmodels.api as sm\n",
        "from sklearn.svm import SVR\n",
        "from sklearn.svm import SVC\n",
        "\n",
        "from sklearn.metrics import confusion_matrix, classification_report\n",
        "from sklearn.metrics import accuracy_score, precision_score, recall_score, f1_score, make_scorer\n",
        "from sklearn.metrics import roc_curve, auc"
      ]
    },
    {
      "cell_type": "code",
      "execution_count": null,
      "metadata": {
        "id": "SVzP3gQui2y-"
      },
      "outputs": [],
      "source": [
        "os.chdir('/Users/michelleyuu/Desktop/DATA240/project/data')"
      ]
    },
    {
      "cell_type": "code",
      "execution_count": null,
      "metadata": {
        "id": "iUK0d0Tji2y_"
      },
      "outputs": [],
      "source": [
        "data = pd.read_csv('weather_location_transformed.csv')\n",
        "data = data.drop(columns = 'Unnamed: 0')\n"
      ]
    },
    {
      "cell_type": "code",
      "execution_count": null,
      "metadata": {
        "id": "PCx0bObYi2zA"
      },
      "outputs": [],
      "source": [
        "data['outcome'] = np.where(data['GHI'] > 350, 'high',\n",
        "                                 (np.where(data['GHI'] < 200, 'low', 'medium')))"
      ]
    },
    {
      "cell_type": "code",
      "execution_count": null,
      "metadata": {
        "id": "wXJnx_MOi2zA"
      },
      "outputs": [],
      "source": [
        "data = data.loc[(data['Hour'].isin([7, 10, 13, 16, 19])) & (data['Minute'] == 0)]"
      ]
    },
    {
      "cell_type": "code",
      "execution_count": null,
      "metadata": {
        "id": "pyx963Spi2zB",
        "outputId": "f2b9be79-4d5e-400c-bc79-720b68051ffe"
      },
      "outputs": [
        {
          "data": {
            "text/html": [
              "<div>\n",
              "<style scoped>\n",
              "    .dataframe tbody tr th:only-of-type {\n",
              "        vertical-align: middle;\n",
              "    }\n",
              "\n",
              "    .dataframe tbody tr th {\n",
              "        vertical-align: top;\n",
              "    }\n",
              "\n",
              "    .dataframe thead th {\n",
              "        text-align: right;\n",
              "    }\n",
              "</style>\n",
              "<table border=\"1\" class=\"dataframe\">\n",
              "  <thead>\n",
              "    <tr style=\"text-align: right;\">\n",
              "      <th></th>\n",
              "      <th>Year</th>\n",
              "      <th>Month</th>\n",
              "      <th>Day</th>\n",
              "      <th>Hour</th>\n",
              "      <th>Minute</th>\n",
              "      <th>Temperature</th>\n",
              "      <th>Clearsky DHI</th>\n",
              "      <th>Clearsky DNI</th>\n",
              "      <th>Clearsky GHI</th>\n",
              "      <th>Cloud Type</th>\n",
              "      <th>...</th>\n",
              "      <th>Surface Albedo</th>\n",
              "      <th>Pressure</th>\n",
              "      <th>Precipitable Water</th>\n",
              "      <th>Wind Direction</th>\n",
              "      <th>Wind Speed</th>\n",
              "      <th>Location ID</th>\n",
              "      <th>Latitude</th>\n",
              "      <th>Longitude</th>\n",
              "      <th>Elevation</th>\n",
              "      <th>outcome</th>\n",
              "    </tr>\n",
              "  </thead>\n",
              "  <tbody>\n",
              "    <tr>\n",
              "      <th>14</th>\n",
              "      <td>2020</td>\n",
              "      <td>1</td>\n",
              "      <td>1</td>\n",
              "      <td>7</td>\n",
              "      <td>0</td>\n",
              "      <td>-3.5</td>\n",
              "      <td>0</td>\n",
              "      <td>0</td>\n",
              "      <td>0</td>\n",
              "      <td>4</td>\n",
              "      <td>...</td>\n",
              "      <td>0.11</td>\n",
              "      <td>987</td>\n",
              "      <td>0.4</td>\n",
              "      <td>236.0</td>\n",
              "      <td>5.0</td>\n",
              "      <td>903523</td>\n",
              "      <td>41.89</td>\n",
              "      <td>-87.62</td>\n",
              "      <td>179</td>\n",
              "      <td>low</td>\n",
              "    </tr>\n",
              "    <tr>\n",
              "      <th>20</th>\n",
              "      <td>2020</td>\n",
              "      <td>1</td>\n",
              "      <td>1</td>\n",
              "      <td>10</td>\n",
              "      <td>0</td>\n",
              "      <td>0.0</td>\n",
              "      <td>59</td>\n",
              "      <td>875</td>\n",
              "      <td>358</td>\n",
              "      <td>2</td>\n",
              "      <td>...</td>\n",
              "      <td>0.11</td>\n",
              "      <td>986</td>\n",
              "      <td>0.3</td>\n",
              "      <td>205.0</td>\n",
              "      <td>6.7</td>\n",
              "      <td>903523</td>\n",
              "      <td>41.89</td>\n",
              "      <td>-87.62</td>\n",
              "      <td>179</td>\n",
              "      <td>medium</td>\n",
              "    </tr>\n",
              "    <tr>\n",
              "      <th>26</th>\n",
              "      <td>2020</td>\n",
              "      <td>1</td>\n",
              "      <td>1</td>\n",
              "      <td>13</td>\n",
              "      <td>0</td>\n",
              "      <td>4.3</td>\n",
              "      <td>70</td>\n",
              "      <td>878</td>\n",
              "      <td>418</td>\n",
              "      <td>0</td>\n",
              "      <td>...</td>\n",
              "      <td>0.11</td>\n",
              "      <td>982</td>\n",
              "      <td>0.5</td>\n",
              "      <td>204.0</td>\n",
              "      <td>7.4</td>\n",
              "      <td>903523</td>\n",
              "      <td>41.89</td>\n",
              "      <td>-87.62</td>\n",
              "      <td>179</td>\n",
              "      <td>high</td>\n",
              "    </tr>\n",
              "    <tr>\n",
              "      <th>32</th>\n",
              "      <td>2020</td>\n",
              "      <td>1</td>\n",
              "      <td>1</td>\n",
              "      <td>16</td>\n",
              "      <td>0</td>\n",
              "      <td>3.6</td>\n",
              "      <td>26</td>\n",
              "      <td>340</td>\n",
              "      <td>50</td>\n",
              "      <td>0</td>\n",
              "      <td>...</td>\n",
              "      <td>0.11</td>\n",
              "      <td>980</td>\n",
              "      <td>0.7</td>\n",
              "      <td>191.0</td>\n",
              "      <td>7.3</td>\n",
              "      <td>903523</td>\n",
              "      <td>41.89</td>\n",
              "      <td>-87.62</td>\n",
              "      <td>179</td>\n",
              "      <td>low</td>\n",
              "    </tr>\n",
              "    <tr>\n",
              "      <th>38</th>\n",
              "      <td>2020</td>\n",
              "      <td>1</td>\n",
              "      <td>1</td>\n",
              "      <td>19</td>\n",
              "      <td>0</td>\n",
              "      <td>3.2</td>\n",
              "      <td>0</td>\n",
              "      <td>0</td>\n",
              "      <td>0</td>\n",
              "      <td>4</td>\n",
              "      <td>...</td>\n",
              "      <td>0.11</td>\n",
              "      <td>980</td>\n",
              "      <td>1.1</td>\n",
              "      <td>192.0</td>\n",
              "      <td>8.9</td>\n",
              "      <td>903523</td>\n",
              "      <td>41.89</td>\n",
              "      <td>-87.62</td>\n",
              "      <td>179</td>\n",
              "      <td>low</td>\n",
              "    </tr>\n",
              "  </tbody>\n",
              "</table>\n",
              "<p>5 rows × 26 columns</p>\n",
              "</div>"
            ],
            "text/plain": [
              "    Year  Month  Day  Hour  Minute  Temperature  Clearsky DHI  Clearsky DNI  \\\n",
              "14  2020      1    1     7       0         -3.5             0             0   \n",
              "20  2020      1    1    10       0          0.0            59           875   \n",
              "26  2020      1    1    13       0          4.3            70           878   \n",
              "32  2020      1    1    16       0          3.6            26           340   \n",
              "38  2020      1    1    19       0          3.2             0             0   \n",
              "\n",
              "    Clearsky GHI  Cloud Type  ...  Surface Albedo  Pressure  \\\n",
              "14             0           4  ...            0.11       987   \n",
              "20           358           2  ...            0.11       986   \n",
              "26           418           0  ...            0.11       982   \n",
              "32            50           0  ...            0.11       980   \n",
              "38             0           4  ...            0.11       980   \n",
              "\n",
              "    Precipitable Water  Wind Direction  Wind Speed  Location ID  Latitude  \\\n",
              "14                 0.4           236.0         5.0       903523     41.89   \n",
              "20                 0.3           205.0         6.7       903523     41.89   \n",
              "26                 0.5           204.0         7.4       903523     41.89   \n",
              "32                 0.7           191.0         7.3       903523     41.89   \n",
              "38                 1.1           192.0         8.9       903523     41.89   \n",
              "\n",
              "    Longitude  Elevation  outcome  \n",
              "14     -87.62        179      low  \n",
              "20     -87.62        179   medium  \n",
              "26     -87.62        179     high  \n",
              "32     -87.62        179      low  \n",
              "38     -87.62        179      low  \n",
              "\n",
              "[5 rows x 26 columns]"
            ]
          },
          "execution_count": 39,
          "metadata": {},
          "output_type": "execute_result"
        }
      ],
      "source": [
        "data.head()"
      ]
    },
    {
      "cell_type": "code",
      "execution_count": null,
      "metadata": {
        "id": "Aq35dSHCi2zC",
        "outputId": "be8e2434-8451-4e18-9f2a-302f0ea2f02f"
      },
      "outputs": [
        {
          "data": {
            "text/html": [
              "<div>\n",
              "<style scoped>\n",
              "    .dataframe tbody tr th:only-of-type {\n",
              "        vertical-align: middle;\n",
              "    }\n",
              "\n",
              "    .dataframe tbody tr th {\n",
              "        vertical-align: top;\n",
              "    }\n",
              "\n",
              "    .dataframe thead th {\n",
              "        text-align: right;\n",
              "    }\n",
              "</style>\n",
              "<table border=\"1\" class=\"dataframe\">\n",
              "  <thead>\n",
              "    <tr style=\"text-align: right;\">\n",
              "      <th></th>\n",
              "      <th>Clearsky GHI</th>\n",
              "      <th>Solar Zenith Angle</th>\n",
              "      <th>DHI</th>\n",
              "      <th>DNI</th>\n",
              "      <th>Clearsky DNI</th>\n",
              "      <th>Clearsky DHI</th>\n",
              "      <th>Cloud Type</th>\n",
              "      <th>Relative Humidity</th>\n",
              "      <th>Hour</th>\n",
              "      <th>Temperature</th>\n",
              "      <th>Month</th>\n",
              "      <th>Dew Point</th>\n",
              "      <th>Elevation</th>\n",
              "      <th>outcome</th>\n",
              "    </tr>\n",
              "  </thead>\n",
              "  <tbody>\n",
              "    <tr>\n",
              "      <th>14</th>\n",
              "      <td>0</td>\n",
              "      <td>93.80</td>\n",
              "      <td>0</td>\n",
              "      <td>0</td>\n",
              "      <td>0</td>\n",
              "      <td>0</td>\n",
              "      <td>4</td>\n",
              "      <td>92.20</td>\n",
              "      <td>7</td>\n",
              "      <td>-3.5</td>\n",
              "      <td>1</td>\n",
              "      <td>-4.6</td>\n",
              "      <td>179</td>\n",
              "      <td>low</td>\n",
              "    </tr>\n",
              "    <tr>\n",
              "      <th>20</th>\n",
              "      <td>358</td>\n",
              "      <td>70.01</td>\n",
              "      <td>112</td>\n",
              "      <td>414</td>\n",
              "      <td>875</td>\n",
              "      <td>59</td>\n",
              "      <td>2</td>\n",
              "      <td>79.80</td>\n",
              "      <td>10</td>\n",
              "      <td>0.0</td>\n",
              "      <td>1</td>\n",
              "      <td>-3.1</td>\n",
              "      <td>179</td>\n",
              "      <td>medium</td>\n",
              "    </tr>\n",
              "    <tr>\n",
              "      <th>26</th>\n",
              "      <td>418</td>\n",
              "      <td>66.63</td>\n",
              "      <td>70</td>\n",
              "      <td>878</td>\n",
              "      <td>878</td>\n",
              "      <td>70</td>\n",
              "      <td>0</td>\n",
              "      <td>67.05</td>\n",
              "      <td>13</td>\n",
              "      <td>4.3</td>\n",
              "      <td>1</td>\n",
              "      <td>-1.3</td>\n",
              "      <td>179</td>\n",
              "      <td>high</td>\n",
              "    </tr>\n",
              "    <tr>\n",
              "      <th>32</th>\n",
              "      <td>50</td>\n",
              "      <td>86.01</td>\n",
              "      <td>28</td>\n",
              "      <td>203</td>\n",
              "      <td>340</td>\n",
              "      <td>26</td>\n",
              "      <td>0</td>\n",
              "      <td>80.16</td>\n",
              "      <td>16</td>\n",
              "      <td>3.6</td>\n",
              "      <td>1</td>\n",
              "      <td>0.5</td>\n",
              "      <td>179</td>\n",
              "      <td>low</td>\n",
              "    </tr>\n",
              "    <tr>\n",
              "      <th>38</th>\n",
              "      <td>0</td>\n",
              "      <td>117.07</td>\n",
              "      <td>0</td>\n",
              "      <td>0</td>\n",
              "      <td>0</td>\n",
              "      <td>0</td>\n",
              "      <td>4</td>\n",
              "      <td>85.80</td>\n",
              "      <td>19</td>\n",
              "      <td>3.2</td>\n",
              "      <td>1</td>\n",
              "      <td>1.1</td>\n",
              "      <td>179</td>\n",
              "      <td>low</td>\n",
              "    </tr>\n",
              "  </tbody>\n",
              "</table>\n",
              "</div>"
            ],
            "text/plain": [
              "    Clearsky GHI  Solar Zenith Angle  DHI  DNI  Clearsky DNI  Clearsky DHI  \\\n",
              "14             0               93.80    0    0             0             0   \n",
              "20           358               70.01  112  414           875            59   \n",
              "26           418               66.63   70  878           878            70   \n",
              "32            50               86.01   28  203           340            26   \n",
              "38             0              117.07    0    0             0             0   \n",
              "\n",
              "    Cloud Type  Relative Humidity  Hour  Temperature  Month  Dew Point  \\\n",
              "14           4              92.20     7         -3.5      1       -4.6   \n",
              "20           2              79.80    10          0.0      1       -3.1   \n",
              "26           0              67.05    13          4.3      1       -1.3   \n",
              "32           0              80.16    16          3.6      1        0.5   \n",
              "38           4              85.80    19          3.2      1        1.1   \n",
              "\n",
              "    Elevation outcome  \n",
              "14        179     low  \n",
              "20        179  medium  \n",
              "26        179    high  \n",
              "32        179     low  \n",
              "38        179     low  "
            ]
          },
          "execution_count": 40,
          "metadata": {},
          "output_type": "execute_result"
        }
      ],
      "source": [
        "data2 = data[['Clearsky GHI', 'Solar Zenith Angle', 'DHI', 'DNI', 'Clearsky DNI', 'Clearsky DHI', 'Cloud Type','Relative Humidity', 'Hour', 'Temperature', 'Month', 'Dew Point', 'Elevation', 'outcome']]\n",
        "data2.head()"
      ]
    },
    {
      "cell_type": "code",
      "execution_count": null,
      "metadata": {
        "id": "CfUlxqhGi2zC",
        "outputId": "601cd2db-db08-4a7c-f811-477089f2895a"
      },
      "outputs": [
        {
          "data": {
            "text/plain": [
              "<bound method DataFrame.info of         Year  Month  Day  Hour  Minute  Temperature  Clearsky DHI  \\\n",
              "14      2020      1    1     7       0         -3.5             0   \n",
              "20      2020      1    1    10       0          0.0            59   \n",
              "26      2020      1    1    13       0          4.3            70   \n",
              "32      2020      1    1    16       0          3.6            26   \n",
              "38      2020      1    1    19       0          3.2             0   \n",
              "...      ...    ...  ...   ...     ...          ...           ...   \n",
              "788366  2016     12   31     7       0         -1.0             0   \n",
              "788372  2016     12   31    10       0          1.0            54   \n",
              "788378  2016     12   31    13       0          2.0            65   \n",
              "788384  2016     12   31    16       0          0.0            17   \n",
              "788390  2016     12   31    19       0         -1.0             0   \n",
              "\n",
              "        Clearsky DNI  Clearsky GHI  Cloud Type  ...  Surface Albedo  Pressure  \\\n",
              "14                 0             0           4  ...            0.11       987   \n",
              "20               875           358           2  ...            0.11       986   \n",
              "26               878           418           0  ...            0.11       982   \n",
              "32               340            50           0  ...            0.11       980   \n",
              "38                 0             0           4  ...            0.11       980   \n",
              "...              ...           ...         ...  ...             ...       ...   \n",
              "788366             0             0           4  ...            0.07      1000   \n",
              "788372           642           202           4  ...            0.07      1000   \n",
              "788378           729           297           4  ...            0.07      1000   \n",
              "788384           379            36           1  ...            0.07      1020   \n",
              "788390             0             0           1  ...            0.07      1020   \n",
              "\n",
              "        Precipitable Water  Wind Direction  Wind Speed  Location ID  Latitude  \\\n",
              "14                   0.400           236.0         5.0       903523     41.89   \n",
              "20                   0.300           205.0         6.7       903523     41.89   \n",
              "26                   0.500           204.0         7.4       903523     41.89   \n",
              "32                   0.700           191.0         7.3       903523     41.89   \n",
              "38                   1.100           192.0         8.9       903523     41.89   \n",
              "...                    ...             ...         ...          ...       ...   \n",
              "788366               0.722           158.8         1.0       241108     47.61   \n",
              "788372               0.775           188.7         0.9       241108     47.61   \n",
              "788378               1.055           186.5         1.2       241108     47.61   \n",
              "788384               0.440           101.8         0.9       241108     47.61   \n",
              "788390               0.403            88.4         0.6       241108     47.61   \n",
              "\n",
              "        Longitude  Elevation  outcome  \n",
              "14         -87.62        179      low  \n",
              "20         -87.62        179   medium  \n",
              "26         -87.62        179     high  \n",
              "32         -87.62        179      low  \n",
              "38         -87.62        179      low  \n",
              "...           ...        ...      ...  \n",
              "788366    -122.34         49      low  \n",
              "788372    -122.34         49   medium  \n",
              "788378    -122.34         49   medium  \n",
              "788384    -122.34         49      low  \n",
              "788390    -122.34         49      low  \n",
              "\n",
              "[82125 rows x 26 columns]>"
            ]
          },
          "execution_count": 80,
          "metadata": {},
          "output_type": "execute_result"
        }
      ],
      "source": [
        "data.info"
      ]
    },
    {
      "cell_type": "code",
      "execution_count": null,
      "metadata": {
        "id": "CP0LGF_Ki2zD",
        "outputId": "ebfbc9c3-a37a-4073-bd9b-fb068d231641"
      },
      "outputs": [
        {
          "data": {
            "text/plain": [
              "82125"
            ]
          },
          "execution_count": 79,
          "metadata": {},
          "output_type": "execute_result"
        }
      ],
      "source": [
        "len(data['GHI'])"
      ]
    },
    {
      "cell_type": "code",
      "execution_count": null,
      "metadata": {
        "id": "HA8Tthpgi2zE"
      },
      "outputs": [],
      "source": [
        "y = data2['outcome']\n",
        "\n",
        "X = data2.drop(['outcome'], axis =1)\n",
        "\n",
        "valid_type = ['low', 'medium', 'high']\n",
        "class_le = LabelEncoder()\n",
        "class_le.fit(valid_type)\n",
        "\n",
        "y = class_le.transform(y)\n",
        "\n",
        "#scaler = MinMaxScaler()\n",
        "scaler = StandardScaler()\n",
        "X = scaler.fit_transform(X)"
      ]
    },
    {
      "cell_type": "code",
      "execution_count": null,
      "metadata": {
        "id": "z0mBRMaCi2zE",
        "outputId": "b065bb64-58f2-46d9-8b96-f83d950055a4"
      },
      "outputs": [
        {
          "data": {
            "text/plain": [
              "low       42237\n",
              "high      28638\n",
              "medium    11250\n",
              "Name: outcome, dtype: int64"
            ]
          },
          "execution_count": 42,
          "metadata": {},
          "output_type": "execute_result"
        }
      ],
      "source": [
        "data2['outcome'].value_counts()"
      ]
    },
    {
      "cell_type": "code",
      "execution_count": null,
      "metadata": {
        "id": "I7B_cNj-i2zF"
      },
      "outputs": [],
      "source": [
        "X_train, X_test, y_train, y_test = train_test_split(X, y, test_size = 0.3, random_state = 0)"
      ]
    },
    {
      "cell_type": "code",
      "execution_count": null,
      "metadata": {
        "id": "o61o5Oy-i2zF",
        "outputId": "743b6ead-8ec3-4957-ea89-7b378f25bd93"
      },
      "outputs": [
        {
          "name": "stdout",
          "output_type": "stream",
          "text": [
            "(57487, 13)\n",
            "(24638, 13)\n",
            "(57487,)\n",
            "(24638,)\n"
          ]
        }
      ],
      "source": [
        "print(X_train.shape)\n",
        "print(X_test.shape)\n",
        "print(y_train.shape)\n",
        "print(y_test.shape)"
      ]
    },
    {
      "cell_type": "markdown",
      "metadata": {
        "id": "VXky4yXLi2zG"
      },
      "source": [
        "SVR"
      ]
    },
    {
      "cell_type": "code",
      "execution_count": null,
      "metadata": {
        "id": "_6lyuQtji2zH"
      },
      "outputs": [],
      "source": [
        "#classifier = SVR()\n",
        "#classifier.fit(X_train, y_train)"
      ]
    },
    {
      "cell_type": "code",
      "execution_count": null,
      "metadata": {
        "id": "k1KSV4mbi2zH",
        "outputId": "70c40823-d2e1-4488-f755-e5c8d129feff"
      },
      "outputs": [
        {
          "data": {
            "text/html": [
              "<style>#sk-container-id-3 {color: black;background-color: white;}#sk-container-id-3 pre{padding: 0;}#sk-container-id-3 div.sk-toggleable {background-color: white;}#sk-container-id-3 label.sk-toggleable__label {cursor: pointer;display: block;width: 100%;margin-bottom: 0;padding: 0.3em;box-sizing: border-box;text-align: center;}#sk-container-id-3 label.sk-toggleable__label-arrow:before {content: \"▸\";float: left;margin-right: 0.25em;color: #696969;}#sk-container-id-3 label.sk-toggleable__label-arrow:hover:before {color: black;}#sk-container-id-3 div.sk-estimator:hover label.sk-toggleable__label-arrow:before {color: black;}#sk-container-id-3 div.sk-toggleable__content {max-height: 0;max-width: 0;overflow: hidden;text-align: left;background-color: #f0f8ff;}#sk-container-id-3 div.sk-toggleable__content pre {margin: 0.2em;color: black;border-radius: 0.25em;background-color: #f0f8ff;}#sk-container-id-3 input.sk-toggleable__control:checked~div.sk-toggleable__content {max-height: 200px;max-width: 100%;overflow: auto;}#sk-container-id-3 input.sk-toggleable__control:checked~label.sk-toggleable__label-arrow:before {content: \"▾\";}#sk-container-id-3 div.sk-estimator input.sk-toggleable__control:checked~label.sk-toggleable__label {background-color: #d4ebff;}#sk-container-id-3 div.sk-label input.sk-toggleable__control:checked~label.sk-toggleable__label {background-color: #d4ebff;}#sk-container-id-3 input.sk-hidden--visually {border: 0;clip: rect(1px 1px 1px 1px);clip: rect(1px, 1px, 1px, 1px);height: 1px;margin: -1px;overflow: hidden;padding: 0;position: absolute;width: 1px;}#sk-container-id-3 div.sk-estimator {font-family: monospace;background-color: #f0f8ff;border: 1px dotted black;border-radius: 0.25em;box-sizing: border-box;margin-bottom: 0.5em;}#sk-container-id-3 div.sk-estimator:hover {background-color: #d4ebff;}#sk-container-id-3 div.sk-parallel-item::after {content: \"\";width: 100%;border-bottom: 1px solid gray;flex-grow: 1;}#sk-container-id-3 div.sk-label:hover label.sk-toggleable__label {background-color: #d4ebff;}#sk-container-id-3 div.sk-serial::before {content: \"\";position: absolute;border-left: 1px solid gray;box-sizing: border-box;top: 0;bottom: 0;left: 50%;z-index: 0;}#sk-container-id-3 div.sk-serial {display: flex;flex-direction: column;align-items: center;background-color: white;padding-right: 0.2em;padding-left: 0.2em;position: relative;}#sk-container-id-3 div.sk-item {position: relative;z-index: 1;}#sk-container-id-3 div.sk-parallel {display: flex;align-items: stretch;justify-content: center;background-color: white;position: relative;}#sk-container-id-3 div.sk-item::before, #sk-container-id-3 div.sk-parallel-item::before {content: \"\";position: absolute;border-left: 1px solid gray;box-sizing: border-box;top: 0;bottom: 0;left: 50%;z-index: -1;}#sk-container-id-3 div.sk-parallel-item {display: flex;flex-direction: column;z-index: 1;position: relative;background-color: white;}#sk-container-id-3 div.sk-parallel-item:first-child::after {align-self: flex-end;width: 50%;}#sk-container-id-3 div.sk-parallel-item:last-child::after {align-self: flex-start;width: 50%;}#sk-container-id-3 div.sk-parallel-item:only-child::after {width: 0;}#sk-container-id-3 div.sk-dashed-wrapped {border: 1px dashed gray;margin: 0 0.4em 0.5em 0.4em;box-sizing: border-box;padding-bottom: 0.4em;background-color: white;}#sk-container-id-3 div.sk-label label {font-family: monospace;font-weight: bold;display: inline-block;line-height: 1.2em;}#sk-container-id-3 div.sk-label-container {text-align: center;}#sk-container-id-3 div.sk-container {/* jupyter's `normalize.less` sets `[hidden] { display: none; }` but bootstrap.min.css set `[hidden] { display: none !important; }` so we also need the `!important` here to be able to override the default hidden behavior on the sphinx rendered scikit-learn.org. See: https://github.com/scikit-learn/scikit-learn/issues/21755 */display: inline-block !important;position: relative;}#sk-container-id-3 div.sk-text-repr-fallback {display: none;}</style><div id=\"sk-container-id-3\" class=\"sk-top-container\"><div class=\"sk-text-repr-fallback\"><pre>SVC(C=5, class_weight=&#x27;balanced&#x27;, random_state=0)</pre><b>In a Jupyter environment, please rerun this cell to show the HTML representation or trust the notebook. <br />On GitHub, the HTML representation is unable to render, please try loading this page with nbviewer.org.</b></div><div class=\"sk-container\" hidden><div class=\"sk-item\"><div class=\"sk-estimator sk-toggleable\"><input class=\"sk-toggleable__control sk-hidden--visually\" id=\"sk-estimator-id-3\" type=\"checkbox\" checked><label for=\"sk-estimator-id-3\" class=\"sk-toggleable__label sk-toggleable__label-arrow\">SVC</label><div class=\"sk-toggleable__content\"><pre>SVC(C=5, class_weight=&#x27;balanced&#x27;, random_state=0)</pre></div></div></div></div></div>"
            ],
            "text/plain": [
              "SVC(C=5, class_weight='balanced', random_state=0)"
            ]
          },
          "execution_count": 45,
          "metadata": {},
          "output_type": "execute_result"
        }
      ],
      "source": [
        "classifier = SVC(kernel='rbf', decision_function_shape = 'ovr', class_weight = 'balanced', C=5, random_state=0) #class_weight = 'balanced'\n",
        "classifier.fit(X_train, y_train)"
      ]
    },
    {
      "cell_type": "code",
      "execution_count": null,
      "metadata": {
        "id": "elIG7oiHi2zI",
        "outputId": "15d1e2e0-c9ce-4ff0-813e-7cbf504efa18"
      },
      "outputs": [
        {
          "name": "stdout",
          "output_type": "stream",
          "text": [
            "[0 1 0 ... 0 0 0]\n"
          ]
        }
      ],
      "source": [
        "y_pred = classifier.predict(X_test)\n",
        "print(y_pred)"
      ]
    },
    {
      "cell_type": "code",
      "execution_count": null,
      "metadata": {
        "id": "jyYQPTcqi2zI",
        "outputId": "274f4883-2da2-46ad-a7d4-59a4d0f037be"
      },
      "outputs": [
        {
          "name": "stdout",
          "output_type": "stream",
          "text": [
            "Confusion matrix\n",
            " [[ 8574     0   104]\n",
            " [    0 12441   165]\n",
            " [    9     7  3338]]\n"
          ]
        }
      ],
      "source": [
        "cm = confusion_matrix(y_test, y_pred)\n",
        "\n",
        "print('Confusion matrix\\n', cm)"
      ]
    },
    {
      "cell_type": "code",
      "execution_count": null,
      "metadata": {
        "id": "0nvMTa26i2zJ",
        "outputId": "2c07340b-2f00-4a5d-8f7a-f18b7573179f"
      },
      "outputs": [
        {
          "name": "stdout",
          "output_type": "stream",
          "text": [
            "Classification Report\n",
            "              precision    recall  f1-score   support\n",
            "\n",
            "           0       1.00      0.99      0.99      8678\n",
            "           1       1.00      0.99      0.99     12606\n",
            "           2       0.93      1.00      0.96      3354\n",
            "\n",
            "    accuracy                           0.99     24638\n",
            "   macro avg       0.97      0.99      0.98     24638\n",
            "weighted avg       0.99      0.99      0.99     24638\n",
            "\n"
          ]
        }
      ],
      "source": [
        "print('Classification Report')\n",
        "print(classification_report(y_test, y_pred))"
      ]
    },
    {
      "cell_type": "code",
      "execution_count": null,
      "metadata": {
        "id": "1nCwo4zAi2zJ",
        "outputId": "d10fce63-6213-4aec-8459-7d039bfa596e"
      },
      "outputs": [
        {
          "data": {
            "text/plain": [
              "0.9886080811390278"
            ]
          },
          "execution_count": 49,
          "metadata": {},
          "output_type": "execute_result"
        }
      ],
      "source": [
        "f1_score(y_test, y_pred, average='weighted')"
      ]
    },
    {
      "cell_type": "code",
      "execution_count": null,
      "metadata": {
        "id": "EKoxkuQti2zJ",
        "outputId": "e849a464-61ac-4e32-b485-cb4e0c0fd995"
      },
      "outputs": [
        {
          "data": {
            "text/plain": [
              "0.9884325026382011"
            ]
          },
          "execution_count": 50,
          "metadata": {},
          "output_type": "execute_result"
        }
      ],
      "source": [
        "accuracy_score(y_test, y_pred)"
      ]
    },
    {
      "cell_type": "code",
      "execution_count": null,
      "metadata": {
        "id": "1x1jLxxHi2zK"
      },
      "outputs": [],
      "source": [
        "scores = cross_val_score(classifier, X, y, cv=5)"
      ]
    },
    {
      "cell_type": "code",
      "execution_count": null,
      "metadata": {
        "id": "ywxDzKbai2zK",
        "outputId": "f9b1103b-ac35-43b7-9dcc-bfa17784b061"
      },
      "outputs": [
        {
          "data": {
            "text/plain": [
              "array([0.98605784, 0.98575342, 0.98800609, 0.98624049, 0.98891933])"
            ]
          },
          "execution_count": 52,
          "metadata": {},
          "output_type": "execute_result"
        }
      ],
      "source": [
        "scores"
      ]
    },
    {
      "cell_type": "code",
      "execution_count": null,
      "metadata": {
        "id": "0JkLP61yi2zK"
      },
      "outputs": [],
      "source": [
        "y_r = data['outcome']\n",
        "\n",
        "X_r = data.drop(['outcome', 'GHI', 'Longitude', 'Latitude'], axis =1)\n",
        "\n",
        "valid_type = ['low', 'medium', 'high']\n",
        "class_le = LabelEncoder()\n",
        "class_le.fit(valid_type)\n",
        "\n",
        "y_r = class_le.transform(y_r)\n",
        "\n",
        "#scaler = MinMaxScaler()\n",
        "scaler = StandardScaler()\n",
        "X_r = scaler.fit_transform(X_r)"
      ]
    },
    {
      "cell_type": "code",
      "execution_count": null,
      "metadata": {
        "id": "AjLw4BEii2zL"
      },
      "outputs": [],
      "source": [
        "X_train_r, X_test_r, y_train_r, y_test_r = train_test_split(X_r, y_r, test_size = 0.3, random_state = 0)"
      ]
    },
    {
      "cell_type": "code",
      "execution_count": null,
      "metadata": {
        "id": "PJCMQmjdi2zL",
        "outputId": "e73d06fe-2191-42bb-9d38-38e611999755"
      },
      "outputs": [
        {
          "data": {
            "text/html": [
              "<style>#sk-container-id-5 {color: black;background-color: white;}#sk-container-id-5 pre{padding: 0;}#sk-container-id-5 div.sk-toggleable {background-color: white;}#sk-container-id-5 label.sk-toggleable__label {cursor: pointer;display: block;width: 100%;margin-bottom: 0;padding: 0.3em;box-sizing: border-box;text-align: center;}#sk-container-id-5 label.sk-toggleable__label-arrow:before {content: \"▸\";float: left;margin-right: 0.25em;color: #696969;}#sk-container-id-5 label.sk-toggleable__label-arrow:hover:before {color: black;}#sk-container-id-5 div.sk-estimator:hover label.sk-toggleable__label-arrow:before {color: black;}#sk-container-id-5 div.sk-toggleable__content {max-height: 0;max-width: 0;overflow: hidden;text-align: left;background-color: #f0f8ff;}#sk-container-id-5 div.sk-toggleable__content pre {margin: 0.2em;color: black;border-radius: 0.25em;background-color: #f0f8ff;}#sk-container-id-5 input.sk-toggleable__control:checked~div.sk-toggleable__content {max-height: 200px;max-width: 100%;overflow: auto;}#sk-container-id-5 input.sk-toggleable__control:checked~label.sk-toggleable__label-arrow:before {content: \"▾\";}#sk-container-id-5 div.sk-estimator input.sk-toggleable__control:checked~label.sk-toggleable__label {background-color: #d4ebff;}#sk-container-id-5 div.sk-label input.sk-toggleable__control:checked~label.sk-toggleable__label {background-color: #d4ebff;}#sk-container-id-5 input.sk-hidden--visually {border: 0;clip: rect(1px 1px 1px 1px);clip: rect(1px, 1px, 1px, 1px);height: 1px;margin: -1px;overflow: hidden;padding: 0;position: absolute;width: 1px;}#sk-container-id-5 div.sk-estimator {font-family: monospace;background-color: #f0f8ff;border: 1px dotted black;border-radius: 0.25em;box-sizing: border-box;margin-bottom: 0.5em;}#sk-container-id-5 div.sk-estimator:hover {background-color: #d4ebff;}#sk-container-id-5 div.sk-parallel-item::after {content: \"\";width: 100%;border-bottom: 1px solid gray;flex-grow: 1;}#sk-container-id-5 div.sk-label:hover label.sk-toggleable__label {background-color: #d4ebff;}#sk-container-id-5 div.sk-serial::before {content: \"\";position: absolute;border-left: 1px solid gray;box-sizing: border-box;top: 0;bottom: 0;left: 50%;z-index: 0;}#sk-container-id-5 div.sk-serial {display: flex;flex-direction: column;align-items: center;background-color: white;padding-right: 0.2em;padding-left: 0.2em;position: relative;}#sk-container-id-5 div.sk-item {position: relative;z-index: 1;}#sk-container-id-5 div.sk-parallel {display: flex;align-items: stretch;justify-content: center;background-color: white;position: relative;}#sk-container-id-5 div.sk-item::before, #sk-container-id-5 div.sk-parallel-item::before {content: \"\";position: absolute;border-left: 1px solid gray;box-sizing: border-box;top: 0;bottom: 0;left: 50%;z-index: -1;}#sk-container-id-5 div.sk-parallel-item {display: flex;flex-direction: column;z-index: 1;position: relative;background-color: white;}#sk-container-id-5 div.sk-parallel-item:first-child::after {align-self: flex-end;width: 50%;}#sk-container-id-5 div.sk-parallel-item:last-child::after {align-self: flex-start;width: 50%;}#sk-container-id-5 div.sk-parallel-item:only-child::after {width: 0;}#sk-container-id-5 div.sk-dashed-wrapped {border: 1px dashed gray;margin: 0 0.4em 0.5em 0.4em;box-sizing: border-box;padding-bottom: 0.4em;background-color: white;}#sk-container-id-5 div.sk-label label {font-family: monospace;font-weight: bold;display: inline-block;line-height: 1.2em;}#sk-container-id-5 div.sk-label-container {text-align: center;}#sk-container-id-5 div.sk-container {/* jupyter's `normalize.less` sets `[hidden] { display: none; }` but bootstrap.min.css set `[hidden] { display: none !important; }` so we also need the `!important` here to be able to override the default hidden behavior on the sphinx rendered scikit-learn.org. See: https://github.com/scikit-learn/scikit-learn/issues/21755 */display: inline-block !important;position: relative;}#sk-container-id-5 div.sk-text-repr-fallback {display: none;}</style><div id=\"sk-container-id-5\" class=\"sk-top-container\"><div class=\"sk-text-repr-fallback\"><pre>SVC(C=5, class_weight=&#x27;balanced&#x27;, random_state=0)</pre><b>In a Jupyter environment, please rerun this cell to show the HTML representation or trust the notebook. <br />On GitHub, the HTML representation is unable to render, please try loading this page with nbviewer.org.</b></div><div class=\"sk-container\" hidden><div class=\"sk-item\"><div class=\"sk-estimator sk-toggleable\"><input class=\"sk-toggleable__control sk-hidden--visually\" id=\"sk-estimator-id-5\" type=\"checkbox\" checked><label for=\"sk-estimator-id-5\" class=\"sk-toggleable__label sk-toggleable__label-arrow\">SVC</label><div class=\"sk-toggleable__content\"><pre>SVC(C=5, class_weight=&#x27;balanced&#x27;, random_state=0)</pre></div></div></div></div></div>"
            ],
            "text/plain": [
              "SVC(C=5, class_weight='balanced', random_state=0)"
            ]
          },
          "execution_count": 70,
          "metadata": {},
          "output_type": "execute_result"
        }
      ],
      "source": [
        "#classifier = SVC(kernel='rbf', class_weight = 'balanced', tol = 1e-4, C=10, random_state=42)\n",
        "classifier_r = SVC(kernel='rbf', decision_function_shape = 'ovr', class_weight = 'balanced', C=5, random_state=0)\n",
        "\n",
        "classifier_r.fit(X_train_r, y_train_r)"
      ]
    },
    {
      "cell_type": "code",
      "execution_count": null,
      "metadata": {
        "id": "2ORaTO7ri2zM",
        "outputId": "7c497294-6753-4e8f-eb11-1cf6398900fd"
      },
      "outputs": [
        {
          "name": "stdout",
          "output_type": "stream",
          "text": [
            "[0 1 0 ... 0 0 0]\n"
          ]
        }
      ],
      "source": [
        "y_pred_r = classifier_r.predict(X_test_r)\n",
        "print(y_pred_r)"
      ]
    },
    {
      "cell_type": "code",
      "execution_count": null,
      "metadata": {
        "id": "IewrFZpbi2zM",
        "outputId": "a2df289c-9588-4689-adcd-123dbfabc3eb"
      },
      "outputs": [
        {
          "data": {
            "text/plain": [
              "array([0.98605784, 0.98575342, 0.98800609, 0.98624049, 0.98891933])"
            ]
          },
          "execution_count": 72,
          "metadata": {},
          "output_type": "execute_result"
        }
      ],
      "source": [
        "scores = cross_val_score(classifier_r, X, y, cv=5)\n",
        "\n",
        "scores"
      ]
    },
    {
      "cell_type": "code",
      "execution_count": null,
      "metadata": {
        "id": "fkNe6ACGi2zM",
        "outputId": "fa965201-ccbd-402d-c093-5745b1b440d3"
      },
      "outputs": [
        {
          "name": "stdout",
          "output_type": "stream",
          "text": [
            "Confusion matrix\n",
            " [[ 8551     0   127]\n",
            " [    0 12416   190]\n",
            " [   25    17  3312]]\n"
          ]
        }
      ],
      "source": [
        "cm_r = confusion_matrix(y_test_r, y_pred_r)\n",
        "\n",
        "print('Confusion matrix\\n', cm_r)"
      ]
    },
    {
      "cell_type": "code",
      "execution_count": null,
      "metadata": {
        "id": "ExcwoGIAi2zN",
        "outputId": "6051d53d-430b-42ec-ec1d-9dd748f114c3"
      },
      "outputs": [
        {
          "name": "stdout",
          "output_type": "stream",
          "text": [
            "Classification Report\n",
            "              precision    recall  f1-score   support\n",
            "\n",
            "           0       1.00      0.99      0.99      8678\n",
            "           1       1.00      0.98      0.99     12606\n",
            "           2       0.91      0.99      0.95      3354\n",
            "\n",
            "    accuracy                           0.99     24638\n",
            "   macro avg       0.97      0.99      0.98     24638\n",
            "weighted avg       0.99      0.99      0.99     24638\n",
            "\n"
          ]
        }
      ],
      "source": [
        "print('Classification Report')\n",
        "print(classification_report(y_test_r, y_pred_r))"
      ]
    },
    {
      "cell_type": "code",
      "execution_count": null,
      "metadata": {
        "id": "sL9HLS4Ni2zN",
        "outputId": "a016ce68-f6c3-44d1-866d-f844d61653ba"
      },
      "outputs": [
        {
          "data": {
            "text/plain": [
              "0.985668664729811"
            ]
          },
          "execution_count": 75,
          "metadata": {},
          "output_type": "execute_result"
        }
      ],
      "source": [
        "f1_score(y_test_r, y_pred_r, average='weighted')"
      ]
    },
    {
      "cell_type": "code",
      "execution_count": null,
      "metadata": {
        "id": "V1-fUliMi2zO",
        "outputId": "219de4e6-f040-4558-bd96-44fd6bc38d81"
      },
      "outputs": [
        {
          "data": {
            "text/plain": [
              "0.9854290120951376"
            ]
          },
          "execution_count": 76,
          "metadata": {},
          "output_type": "execute_result"
        }
      ],
      "source": [
        "accuracy_score(y_test_r, y_pred_r)"
      ]
    },
    {
      "cell_type": "markdown",
      "metadata": {
        "id": "TGtPdc6Ji2zO"
      },
      "source": [
        "Graph for comparison \n",
        "Create dataframe where model name : feature and accuracy/F1-Score"
      ]
    },
    {
      "cell_type": "markdown",
      "metadata": {
        "id": "nP3EKadBi2zO"
      },
      "source": [
        "Weather location CSV"
      ]
    },
    {
      "cell_type": "markdown",
      "metadata": {
        "id": "OZLxBxdei2zO"
      },
      "source": [
        "https://www.kaggle.com/code/prashant111/logistic-regression-classifier-tutorial/notebook"
      ]
    },
    {
      "cell_type": "markdown",
      "metadata": {
        "id": "VUUa1NGAi2zP"
      },
      "source": [
        "Markdown"
      ]
    }
  ],
  "metadata": {
    "kernelspec": {
      "display_name": "Python 3.8.7 64-bit",
      "language": "python",
      "name": "python3"
    },
    "language_info": {
      "codemirror_mode": {
        "name": "ipython",
        "version": 3
      },
      "file_extension": ".py",
      "mimetype": "text/x-python",
      "name": "python",
      "nbconvert_exporter": "python",
      "pygments_lexer": "ipython3",
      "version": "3.8.7"
    },
    "orig_nbformat": 2,
    "vscode": {
      "interpreter": {
        "hash": "aee8b7b246df8f9039afb4144a1f6fd8d2ca17a180786b69acc140d282b71a49"
      }
    },
    "colab": {
      "provenance": [],
      "include_colab_link": true
    }
  },
  "nbformat": 4,
  "nbformat_minor": 0
}